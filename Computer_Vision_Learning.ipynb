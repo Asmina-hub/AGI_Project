{
  "nbformat": 4,
  "nbformat_minor": 0,
  "metadata": {
    "colab": {
      "provenance": [],
      "authorship_tag": "ABX9TyM7BCRhyHkeejeByOucNWxw",
      "include_colab_link": true
    },
    "kernelspec": {
      "name": "python3",
      "display_name": "Python 3"
    },
    "language_info": {
      "name": "python"
    }
  },
  "cells": [
    {
      "cell_type": "markdown",
      "metadata": {
        "id": "view-in-github",
        "colab_type": "text"
      },
      "source": [
        "<a href=\"https://colab.research.google.com/github/Asmina-hub/AGI_Project/blob/main/Computer_Vision_Learning.ipynb\" target=\"_parent\"><img src=\"https://colab.research.google.com/assets/colab-badge.svg\" alt=\"Open In Colab\"/></a>"
      ]
    },
    {
      "cell_type": "code",
      "source": [
        "import torch.nn as nn\n",
        "import torch\n",
        "import torch.nn.functional as F\n",
        "import numpy as np"
      ],
      "metadata": {
        "id": "N243ZrF9MnAQ"
      },
      "execution_count": null,
      "outputs": []
    },
    {
      "cell_type": "code",
      "execution_count": null,
      "metadata": {
        "id": "iGaOfJAFMfMo"
      },
      "outputs": [],
      "source": [
        "#representation of a tensor\n",
        "np.zeros((3,5,4))"
      ]
    },
    {
      "cell_type": "code",
      "source": [
        "torch.zeros((3,5,4))"
      ],
      "metadata": {
        "id": "vSG8Z5IGM77K"
      },
      "execution_count": null,
      "outputs": []
    },
    {
      "cell_type": "code",
      "source": [
        "torch.zeros((16,3,5,4))"
      ],
      "metadata": {
        "id": "CTuM_XPgNOyE"
      },
      "execution_count": null,
      "outputs": []
    },
    {
      "cell_type": "code",
      "source": [
        "a="
      ],
      "metadata": {
        "id": "YD9LYoWPJuwL"
      },
      "execution_count": null,
      "outputs": []
    }
  ]
}