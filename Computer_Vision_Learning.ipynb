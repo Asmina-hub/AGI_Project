{
  "nbformat": 4,
  "nbformat_minor": 0,
  "metadata": {
    "colab": {
      "provenance": [],
      "authorship_tag": "ABX9TyOy7dIhctb/v6WoFZQCUT76",
      "include_colab_link": true
    },
    "kernelspec": {
      "name": "python3",
      "display_name": "Python 3"
    },
    "language_info": {
      "name": "python"
    }
  },
  "cells": [
    {
      "cell_type": "markdown",
      "metadata": {
        "id": "view-in-github",
        "colab_type": "text"
      },
      "source": [
        "<a href=\"https://colab.research.google.com/github/Asmina-hub/AGI_Project/blob/main/Computer_Vision_Learning.ipynb\" target=\"_parent\"><img src=\"https://colab.research.google.com/assets/colab-badge.svg\" alt=\"Open In Colab\"/></a>"
      ]
    },
    {
      "cell_type": "code",
      "source": [
        "import torch.nn as nn\n",
        "import torch\n",
        "import torch.nn.functional as F\n",
        "import numpy as np"
      ],
      "metadata": {
        "id": "N243ZrF9MnAQ"
      },
      "execution_count": null,
      "outputs": []
    },
    {
      "cell_type": "code",
      "execution_count": null,
      "metadata": {
        "id": "iGaOfJAFMfMo"
      },
      "outputs": [],
      "source": [
        "#representation of a tensor\n",
        "np.zeros((3,5,4))"
      ]
    },
    {
      "cell_type": "code",
      "source": [
        "torch.zeros((3,5,4))"
      ],
      "metadata": {
        "id": "vSG8Z5IGM77K"
      },
      "execution_count": null,
      "outputs": []
    },
    {
      "cell_type": "code",
      "source": [
        "torch.zeros((16,3,5,4))"
      ],
      "metadata": {
        "id": "CTuM_XPgNOyE"
      },
      "execution_count": null,
      "outputs": []
    },
    {
      "cell_type": "code",
      "source": [
        "import torch\n",
        "import numpy as np"
      ],
      "metadata": {
        "id": "2vRLSX6CzSTc"
      },
      "execution_count": null,
      "outputs": []
    },
    {
      "cell_type": "code",
      "source": [
        "\n",
        "a=torch.tensor(0.25*np.ones((2),dtype=np.float32) ,requires_grad=True)\n",
        "b=torch.tensor( 2*np.ones((2),dtype=np.float32),requires_grad=True)\n",
        "c=torch.tensor( 3*np.ones((2),dtype=np.float32),requires_grad=True)\n",
        "d=a*b #element-wise product of two (2)-dim vectors\n",
        "d"
      ],
      "metadata": {
        "id": "YD9LYoWPJuwL",
        "outputId": "18588089-218f-4b48-d4b7-951532c370fa",
        "colab": {
          "base_uri": "https://localhost:8080/"
        }
      },
      "execution_count": 2,
      "outputs": [
        {
          "output_type": "execute_result",
          "data": {
            "text/plain": [
              "tensor([0.5000, 0.5000], grad_fn=<MulBackward0>)"
            ]
          },
          "metadata": {},
          "execution_count": 2
        }
      ]
    },
    {
      "cell_type": "code",
      "source": [
        "e=torch.dot (d,c) #the print('e.requires_grad?\n",
        "e.backward() # computes\n",
        "print( 'de/dc', c.grad)\n",
        "print( 'de/db', b.grad)\n",
        "print( 'de/da', a.grad)\n"
      ],
      "metadata": {
        "id": "4tV8dgF-zHmT",
        "outputId": "a32acbda-c0aa-4de9-904d-cd2a460970ea",
        "colab": {
          "base_uri": "https://localhost:8080/"
        }
      },
      "execution_count": 4,
      "outputs": [
        {
          "output_type": "stream",
          "name": "stdout",
          "text": [
            "de/dc tensor([0.5000, 0.5000])\n",
            "de/db tensor([0.7500, 0.7500])\n",
            "de/da tensor([6., 6.])\n"
          ]
        }
      ]
    }
  ]
}